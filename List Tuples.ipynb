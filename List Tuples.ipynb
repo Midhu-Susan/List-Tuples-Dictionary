{
 "cells": [
  {
   "cell_type": "code",
   "execution_count": 1,
   "metadata": {},
   "outputs": [
    {
     "name": "stdout",
     "output_type": "stream",
     "text": [
      "['C', 'Python']\n",
      "[1, 4, 6, 9]\n",
      "C\n",
      "6\n",
      "{'Ram': 9876543210, 'Rita': 8790432157, 'Reena': 7054328901}\n",
      "{'Ram': 9876543210, 'Reena': 7054328901}\n"
     ]
    }
   ],
   "source": [
    "#List\n",
    "myList1 = [\"C\",\"Python\"]\n",
    "myList2 = [1,4,6,9]\n",
    "print(myList1)\n",
    "print(myList2)\n",
    "\n",
    "#Tuple\n",
    "print(myList1[0])\n",
    "print(myList2[2])\n",
    "\n",
    "\n",
    "#Dictionary \n",
    "Phonenumb = {\"Ram\":9876543210 , \"Rita\":8790432157 , \"Reena\":7054328901 }\n",
    "print(Phonenumb)\n",
    "del Phonenumb[\"Rita\"]\n",
    "print(Phonenumb)\n"
   ]
  },
  {
   "cell_type": "code",
   "execution_count": null,
   "metadata": {},
   "outputs": [],
   "source": []
  }
 ],
 "metadata": {
  "kernelspec": {
   "display_name": "Python 3",
   "language": "python",
   "name": "python3"
  },
  "language_info": {
   "codemirror_mode": {
    "name": "ipython",
    "version": 3
   },
   "file_extension": ".py",
   "mimetype": "text/x-python",
   "name": "python",
   "nbconvert_exporter": "python",
   "pygments_lexer": "ipython3",
   "version": "3.7.6"
  }
 },
 "nbformat": 4,
 "nbformat_minor": 4
}
